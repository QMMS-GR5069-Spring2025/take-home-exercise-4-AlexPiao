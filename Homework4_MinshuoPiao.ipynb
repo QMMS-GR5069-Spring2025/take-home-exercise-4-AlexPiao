{
 "cells": [
  {
   "cell_type": "markdown",
   "metadata": {
    "application/vnd.databricks.v1+cell": {
     "cellMetadata": {},
     "inputWidgets": {},
     "nuid": "34ac8ff9-bab0-4bbe-86b8-63dadf62cb88",
     "showTitle": false,
     "tableResultSettingsMap": {},
     "title": ""
    }
   },
   "source": [
    "My analysis idea is using different variables to predict whether the player will be within the first three ranks."
   ]
  },
  {
   "cell_type": "code",
   "execution_count": 0,
   "metadata": {
    "application/vnd.databricks.v1+cell": {
     "cellMetadata": {
      "byteLimit": 2048000,
      "rowLimit": 10000
     },
     "inputWidgets": {},
     "nuid": "4b4a9ab0-e357-4bed-a9d8-91f47f363904",
     "showTitle": false,
     "tableResultSettingsMap": {},
     "title": ""
    }
   },
   "outputs": [
    {
     "output_type": "display_data",
     "data": {
      "text/html": [
       "<style scoped>\n",
       "  .table-result-container {\n",
       "    max-height: 300px;\n",
       "    overflow: auto;\n",
       "  }\n",
       "  table, th, td {\n",
       "    border: 1px solid black;\n",
       "    border-collapse: collapse;\n",
       "  }\n",
       "  th, td {\n",
       "    padding: 5px;\n",
       "  }\n",
       "  th {\n",
       "    text-align: left;\n",
       "  }\n",
       "</style><div class='table-result-container'><table class='table-result'><thead style='background-color: white'><tr><th>resultId</th><th>raceId</th><th>driverId</th><th>constructorId</th><th>number</th><th>grid</th><th>position</th><th>positionText</th><th>positionOrder</th><th>points</th><th>laps</th><th>time</th><th>milliseconds</th><th>fastestLap</th><th>rank</th><th>fastestLapTime</th><th>fastestLapSpeed</th><th>statusId</th></tr></thead><tbody><tr><td>1</td><td>18</td><td>1</td><td>1</td><td>22</td><td>1</td><td>1</td><td>1</td><td>1</td><td>10.0</td><td>58</td><td>1:34:50.616</td><td>5690616</td><td>39</td><td>2</td><td>1:27.452</td><td>218.300</td><td>1</td></tr><tr><td>2</td><td>18</td><td>2</td><td>2</td><td>3</td><td>5</td><td>2</td><td>2</td><td>2</td><td>8.0</td><td>58</td><td>+5.478</td><td>5696094</td><td>41</td><td>3</td><td>1:27.739</td><td>217.586</td><td>1</td></tr><tr><td>3</td><td>18</td><td>3</td><td>3</td><td>7</td><td>7</td><td>3</td><td>3</td><td>3</td><td>6.0</td><td>58</td><td>+8.163</td><td>5698779</td><td>41</td><td>5</td><td>1:28.090</td><td>216.719</td><td>1</td></tr><tr><td>4</td><td>18</td><td>4</td><td>4</td><td>5</td><td>11</td><td>4</td><td>4</td><td>4</td><td>5.0</td><td>58</td><td>+17.181</td><td>5707797</td><td>58</td><td>7</td><td>1:28.603</td><td>215.464</td><td>1</td></tr><tr><td>5</td><td>18</td><td>5</td><td>1</td><td>23</td><td>3</td><td>5</td><td>5</td><td>5</td><td>4.0</td><td>58</td><td>+18.014</td><td>5708630</td><td>43</td><td>1</td><td>1:27.418</td><td>218.385</td><td>1</td></tr></tbody></table></div>"
      ]
     },
     "metadata": {
      "application/vnd.databricks.v1+output": {
       "addedWidgets": {},
       "aggData": [],
       "aggError": "",
       "aggOverflow": false,
       "aggSchema": [],
       "aggSeriesLimitReached": false,
       "aggType": "",
       "arguments": {},
       "columnCustomDisplayInfos": {},
       "data": [
        [
         1,
         18,
         1,
         1,
         "22",
         1,
         "1",
         "1",
         1,
         10.0,
         58,
         "1:34:50.616",
         "5690616",
         "39",
         "2",
         "1:27.452",
         "218.300",
         1
        ],
        [
         2,
         18,
         2,
         2,
         "3",
         5,
         "2",
         "2",
         2,
         8.0,
         58,
         "+5.478",
         "5696094",
         "41",
         "3",
         "1:27.739",
         "217.586",
         1
        ],
        [
         3,
         18,
         3,
         3,
         "7",
         7,
         "3",
         "3",
         3,
         6.0,
         58,
         "+8.163",
         "5698779",
         "41",
         "5",
         "1:28.090",
         "216.719",
         1
        ],
        [
         4,
         18,
         4,
         4,
         "5",
         11,
         "4",
         "4",
         4,
         5.0,
         58,
         "+17.181",
         "5707797",
         "58",
         "7",
         "1:28.603",
         "215.464",
         1
        ],
        [
         5,
         18,
         5,
         1,
         "23",
         3,
         "5",
         "5",
         5,
         4.0,
         58,
         "+18.014",
         "5708630",
         "43",
         "1",
         "1:27.418",
         "218.385",
         1
        ]
       ],
       "datasetInfos": [],
       "dbfsResultPath": null,
       "isJsonSchema": true,
       "metadata": {},
       "overflow": false,
       "plotOptions": {
        "customPlotOptions": {},
        "displayType": "table",
        "pivotAggregation": null,
        "pivotColumns": null,
        "xColumns": null,
        "yColumns": null
       },
       "removedWidgets": [],
       "schema": [
        {
         "metadata": "{}",
         "name": "resultId",
         "type": "\"integer\""
        },
        {
         "metadata": "{}",
         "name": "raceId",
         "type": "\"integer\""
        },
        {
         "metadata": "{}",
         "name": "driverId",
         "type": "\"integer\""
        },
        {
         "metadata": "{}",
         "name": "constructorId",
         "type": "\"integer\""
        },
        {
         "metadata": "{}",
         "name": "number",
         "type": "\"string\""
        },
        {
         "metadata": "{}",
         "name": "grid",
         "type": "\"integer\""
        },
        {
         "metadata": "{}",
         "name": "position",
         "type": "\"string\""
        },
        {
         "metadata": "{}",
         "name": "positionText",
         "type": "\"string\""
        },
        {
         "metadata": "{}",
         "name": "positionOrder",
         "type": "\"integer\""
        },
        {
         "metadata": "{}",
         "name": "points",
         "type": "\"double\""
        },
        {
         "metadata": "{}",
         "name": "laps",
         "type": "\"integer\""
        },
        {
         "metadata": "{}",
         "name": "time",
         "type": "\"string\""
        },
        {
         "metadata": "{}",
         "name": "milliseconds",
         "type": "\"string\""
        },
        {
         "metadata": "{}",
         "name": "fastestLap",
         "type": "\"string\""
        },
        {
         "metadata": "{}",
         "name": "rank",
         "type": "\"string\""
        },
        {
         "metadata": "{}",
         "name": "fastestLapTime",
         "type": "\"string\""
        },
        {
         "metadata": "{}",
         "name": "fastestLapSpeed",
         "type": "\"string\""
        },
        {
         "metadata": "{}",
         "name": "statusId",
         "type": "\"integer\""
        }
       ],
       "type": "table"
      }
     },
     "output_type": "display_data"
    },
    {
     "output_type": "display_data",
     "data": {
      "text/html": [
       "<style scoped>\n",
       "  .table-result-container {\n",
       "    max-height: 300px;\n",
       "    overflow: auto;\n",
       "  }\n",
       "  table, th, td {\n",
       "    border: 1px solid black;\n",
       "    border-collapse: collapse;\n",
       "  }\n",
       "  th, td {\n",
       "    padding: 5px;\n",
       "  }\n",
       "  th {\n",
       "    text-align: left;\n",
       "  }\n",
       "</style><div class='table-result-container'><table class='table-result'><thead style='background-color: white'><tr><th>raceId</th><th>year</th><th>round</th><th>circuitId</th><th>name</th><th>date</th><th>time</th><th>url</th><th>fp1_date</th><th>fp1_time</th><th>fp2_date</th><th>fp2_time</th><th>fp3_date</th><th>fp3_time</th><th>quali_date</th><th>quali_time</th><th>sprint_date</th><th>sprint_time</th></tr></thead><tbody><tr><td>1</td><td>2009</td><td>1</td><td>1</td><td>Australian Grand Prix</td><td>2009-03-29</td><td>06:00:00</td><td>http://en.wikipedia.org/wiki/2009_Australian_Grand_Prix</td><td>\\N</td><td>\\N</td><td>\\N</td><td>\\N</td><td>\\N</td><td>\\N</td><td>\\N</td><td>\\N</td><td>\\N</td><td>\\N</td></tr><tr><td>2</td><td>2009</td><td>2</td><td>2</td><td>Malaysian Grand Prix</td><td>2009-04-05</td><td>09:00:00</td><td>http://en.wikipedia.org/wiki/2009_Malaysian_Grand_Prix</td><td>\\N</td><td>\\N</td><td>\\N</td><td>\\N</td><td>\\N</td><td>\\N</td><td>\\N</td><td>\\N</td><td>\\N</td><td>\\N</td></tr><tr><td>3</td><td>2009</td><td>3</td><td>17</td><td>Chinese Grand Prix</td><td>2009-04-19</td><td>07:00:00</td><td>http://en.wikipedia.org/wiki/2009_Chinese_Grand_Prix</td><td>\\N</td><td>\\N</td><td>\\N</td><td>\\N</td><td>\\N</td><td>\\N</td><td>\\N</td><td>\\N</td><td>\\N</td><td>\\N</td></tr><tr><td>4</td><td>2009</td><td>4</td><td>3</td><td>Bahrain Grand Prix</td><td>2009-04-26</td><td>12:00:00</td><td>http://en.wikipedia.org/wiki/2009_Bahrain_Grand_Prix</td><td>\\N</td><td>\\N</td><td>\\N</td><td>\\N</td><td>\\N</td><td>\\N</td><td>\\N</td><td>\\N</td><td>\\N</td><td>\\N</td></tr><tr><td>5</td><td>2009</td><td>5</td><td>4</td><td>Spanish Grand Prix</td><td>2009-05-10</td><td>12:00:00</td><td>http://en.wikipedia.org/wiki/2009_Spanish_Grand_Prix</td><td>\\N</td><td>\\N</td><td>\\N</td><td>\\N</td><td>\\N</td><td>\\N</td><td>\\N</td><td>\\N</td><td>\\N</td><td>\\N</td></tr></tbody></table></div>"
      ]
     },
     "metadata": {
      "application/vnd.databricks.v1+output": {
       "addedWidgets": {},
       "aggData": [],
       "aggError": "",
       "aggOverflow": false,
       "aggSchema": [],
       "aggSeriesLimitReached": false,
       "aggType": "",
       "arguments": {},
       "columnCustomDisplayInfos": {},
       "data": [
        [
         1,
         2009,
         1,
         1,
         "Australian Grand Prix",
         "2009-03-29",
         "06:00:00",
         "http://en.wikipedia.org/wiki/2009_Australian_Grand_Prix",
         "\\N",
         "\\N",
         "\\N",
         "\\N",
         "\\N",
         "\\N",
         "\\N",
         "\\N",
         "\\N",
         "\\N"
        ],
        [
         2,
         2009,
         2,
         2,
         "Malaysian Grand Prix",
         "2009-04-05",
         "09:00:00",
         "http://en.wikipedia.org/wiki/2009_Malaysian_Grand_Prix",
         "\\N",
         "\\N",
         "\\N",
         "\\N",
         "\\N",
         "\\N",
         "\\N",
         "\\N",
         "\\N",
         "\\N"
        ],
        [
         3,
         2009,
         3,
         17,
         "Chinese Grand Prix",
         "2009-04-19",
         "07:00:00",
         "http://en.wikipedia.org/wiki/2009_Chinese_Grand_Prix",
         "\\N",
         "\\N",
         "\\N",
         "\\N",
         "\\N",
         "\\N",
         "\\N",
         "\\N",
         "\\N",
         "\\N"
        ],
        [
         4,
         2009,
         4,
         3,
         "Bahrain Grand Prix",
         "2009-04-26",
         "12:00:00",
         "http://en.wikipedia.org/wiki/2009_Bahrain_Grand_Prix",
         "\\N",
         "\\N",
         "\\N",
         "\\N",
         "\\N",
         "\\N",
         "\\N",
         "\\N",
         "\\N",
         "\\N"
        ],
        [
         5,
         2009,
         5,
         4,
         "Spanish Grand Prix",
         "2009-05-10",
         "12:00:00",
         "http://en.wikipedia.org/wiki/2009_Spanish_Grand_Prix",
         "\\N",
         "\\N",
         "\\N",
         "\\N",
         "\\N",
         "\\N",
         "\\N",
         "\\N",
         "\\N",
         "\\N"
        ]
       ],
       "datasetInfos": [],
       "dbfsResultPath": null,
       "isJsonSchema": true,
       "metadata": {},
       "overflow": false,
       "plotOptions": {
        "customPlotOptions": {},
        "displayType": "table",
        "pivotAggregation": null,
        "pivotColumns": null,
        "xColumns": null,
        "yColumns": null
       },
       "removedWidgets": [],
       "schema": [
        {
         "metadata": "{}",
         "name": "raceId",
         "type": "\"integer\""
        },
        {
         "metadata": "{}",
         "name": "year",
         "type": "\"integer\""
        },
        {
         "metadata": "{}",
         "name": "round",
         "type": "\"integer\""
        },
        {
         "metadata": "{}",
         "name": "circuitId",
         "type": "\"integer\""
        },
        {
         "metadata": "{}",
         "name": "name",
         "type": "\"string\""
        },
        {
         "metadata": "{\"__detected_date_formats\":\"yyyy-M-d\"}",
         "name": "date",
         "type": "\"date\""
        },
        {
         "metadata": "{}",
         "name": "time",
         "type": "\"string\""
        },
        {
         "metadata": "{}",
         "name": "url",
         "type": "\"string\""
        },
        {
         "metadata": "{}",
         "name": "fp1_date",
         "type": "\"string\""
        },
        {
         "metadata": "{}",
         "name": "fp1_time",
         "type": "\"string\""
        },
        {
         "metadata": "{}",
         "name": "fp2_date",
         "type": "\"string\""
        },
        {
         "metadata": "{}",
         "name": "fp2_time",
         "type": "\"string\""
        },
        {
         "metadata": "{}",
         "name": "fp3_date",
         "type": "\"string\""
        },
        {
         "metadata": "{}",
         "name": "fp3_time",
         "type": "\"string\""
        },
        {
         "metadata": "{}",
         "name": "quali_date",
         "type": "\"string\""
        },
        {
         "metadata": "{}",
         "name": "quali_time",
         "type": "\"string\""
        },
        {
         "metadata": "{}",
         "name": "sprint_date",
         "type": "\"string\""
        },
        {
         "metadata": "{}",
         "name": "sprint_time",
         "type": "\"string\""
        }
       ],
       "type": "table"
      }
     },
     "output_type": "display_data"
    }
   ],
   "source": [
    "import pandas as pd\n",
    "import numpy as np\n",
    "import mlflow\n",
    "import mlflow.sklearn\n",
    "from sklearn.linear_model import LogisticRegression\n",
    "from sklearn.ensemble import RandomForestClassifier\n",
    "from sklearn.metrics import f1_score, accuracy_score, recall_score, precision_score\n",
    "from pyspark.sql import SparkSession\n",
    "\n",
    "results_path = \"s3://columbia-gr5069-main/raw/results.csv\"\n",
    "races_path = \"s3://columbia-gr5069-main/raw/races.csv\"\n",
    "\n",
    "results = spark.read.csv(results_path, header=True, inferSchema=True)\n",
    "races = spark.read.csv(races_path, header=True, inferSchema=True)\n",
    "\n",
    "display(results.limit(5))\n",
    "display(races.limit(5))"
   ]
  },
  {
   "cell_type": "code",
   "execution_count": 0,
   "metadata": {
    "application/vnd.databricks.v1+cell": {
     "cellMetadata": {
      "byteLimit": 2048000,
      "rowLimit": 10000
     },
     "inputWidgets": {},
     "nuid": "09786471-57ce-4a4f-b2a8-645c5dceacab",
     "showTitle": false,
     "tableResultSettingsMap": {},
     "title": ""
    }
   },
   "outputs": [],
   "source": [
    "df = results.join(races, on=\"raceId\").filter(\"positionOrder IS NOT NULL\")\n",
    "df = df.select(\"resultId\", \"driverId\", \"constructorId\", \"grid\", \"positionOrder\", \"circuitId\", \"year\")\n",
    "df = df.withColumn(\"label\", (df[\"positionOrder\"] <= 3).cast(\"int\"))\n",
    "pdf = df.toPandas()\n",
    "pdf = pdf.dropna()\n",
    "\n",
    "X = pdf[[\"driverId\", \"constructorId\", \"grid\", \"circuitId\", \"year\"]]\n",
    "y = pdf[\"label\"]\n",
    "\n",
    "X = pd.get_dummies(X.astype(str))"
   ]
  },
  {
   "cell_type": "markdown",
   "metadata": {
    "application/vnd.databricks.v1+cell": {
     "cellMetadata": {},
     "inputWidgets": {},
     "nuid": "f89476ae-dcde-4981-8f81-89ac704d0326",
     "showTitle": false,
     "tableResultSettingsMap": {},
     "title": ""
    }
   },
   "source": [
    "1. Create two (2) new tables in your own fatabse where you'll store the predictions from each model for this exercise."
   ]
  },
  {
   "cell_type": "code",
   "execution_count": 0,
   "metadata": {
    "application/vnd.databricks.v1+cell": {
     "cellMetadata": {
      "byteLimit": 2048000,
      "rowLimit": 10000
     },
     "inputWidgets": {},
     "nuid": "829c7d8b-38be-4ed4-a219-7e6ad73eb47b",
     "showTitle": false,
     "tableResultSettingsMap": {},
     "title": ""
    }
   },
   "outputs": [
    {
     "output_type": "execute_result",
     "data": {
      "text/plain": [
       "DataFrame[]"
      ]
     },
     "execution_count": 6,
     "metadata": {},
     "output_type": "execute_result"
    }
   ],
   "source": [
    "spark.sql(\"CREATE DATABASE IF NOT EXISTS f1_user_db\")\n",
    "spark.sql(\"\"\"\n",
    "  CREATE OR REPLACE TABLE f1_user_db.predictions_logreg (\n",
    "    id INT,\n",
    "    prediction INT\n",
    "  )\n",
    "\"\"\")\n",
    "\n",
    "spark.sql(\"\"\"\n",
    "  CREATE OR REPLACE TABLE f1_user_db.predictions_rf (\n",
    "    id INT,\n",
    "    prediction INT\n",
    "  )\n",
    "\"\"\")"
   ]
  },
  {
   "cell_type": "markdown",
   "metadata": {
    "application/vnd.databricks.v1+cell": {
     "cellMetadata": {},
     "inputWidgets": {},
     "nuid": "3935388b-e480-4373-a021-b54a41f2b74d",
     "showTitle": false,
     "tableResultSettingsMap": {},
     "title": ""
    }
   },
   "source": [
    " 2. Build two (2) predictive models using MLflow, logging hyperparameters, the model itself, four metrics, and two artifcats. Submit submit your MLflow experiments as part of your assignments"
   ]
  },
  {
   "cell_type": "code",
   "execution_count": 0,
   "metadata": {
    "application/vnd.databricks.v1+cell": {
     "cellMetadata": {
      "byteLimit": 2048000,
      "rowLimit": 10000
     },
     "inputWidgets": {},
     "nuid": "65a0182e-4de0-4f79-b615-6523b7440718",
     "showTitle": false,
     "tableResultSettingsMap": {},
     "title": ""
    }
   },
   "outputs": [],
   "source": [
    "from sklearn.model_selection import train_test_split\n",
    "X_train, X_test, y_train, y_test = train_test_split(X, y, test_size=0.2, random_state=42)\n",
    "\n",
    "def train_model(model, name, table_name):\n",
    "    with mlflow.start_run(run_name=name):\n",
    "        model.fit(X_train, y_train)\n",
    "        y_pred = model.predict(X_test)\n",
    "\n",
    "        acc = accuracy_score(y_test, y_pred)\n",
    "        f1 = f1_score(y_test, y_pred)\n",
    "        recall = recall_score(y_test, y_pred)\n",
    "        precision = precision_score(y_test, y_pred)\n",
    "\n",
    "        mlflow.log_param(\"model_type\", type(model).__name__)\n",
    "        mlflow.log_metric(\"accuracy\", acc)\n",
    "        mlflow.log_metric(\"f1\", f1)\n",
    "        mlflow.log_metric(\"recall\", recall)\n",
    "        mlflow.log_metric(\"precision\", precision)\n",
    "\n",
    "        mlflow.sklearn.log_model(model, \"model\")\n",
    "\n",
    "        with open(\"/tmp/features.txt\", \"w\") as f:\n",
    "            f.write(\"\\n\".join(X.columns))\n",
    "        mlflow.log_artifact(\"/tmp/features.txt\")\n",
    "\n",
    "        np.savetxt(\"/tmp/predictions.csv\", y_pred, fmt=\"%d\")\n",
    "        mlflow.log_artifact(\"/tmp/predictions.csv\")\n",
    "\n",
    "        spark.sql(f\"DROP TABLE IF EXISTS f1_user_db.{table_name}\")\n",
    "\n",
    "        pred_df = pd.DataFrame({\n",
    "            \"id\": X_test.index.astype(\"int32\"),\n",
    "            \"prediction\": y_pred.astype(\"int32\")\n",
    "        })\n",
    "\n",
    "        spark_df = spark.createDataFrame(pred_df)\n",
    "        spark_df.write.mode(\"overwrite\").saveAsTable(f\"f1_user_db.{table_name}\")\n",
    "        print(f\"{name} completed. F1 Score = {f1:.4f}\")\n"
   ]
  },
  {
   "cell_type": "markdown",
   "metadata": {
    "application/vnd.databricks.v1+cell": {
     "cellMetadata": {},
     "inputWidgets": {},
     "nuid": "0cd4708d-c247-4839-b432-73e8cb3160de",
     "showTitle": false,
     "tableResultSettingsMap": {},
     "title": ""
    }
   },
   "source": [
    "3. For each model, store its predictions in the corresponding table you created in your own database. Ensure you are using your own database to store your predictions."
   ]
  },
  {
   "cell_type": "code",
   "execution_count": 0,
   "metadata": {
    "application/vnd.databricks.v1+cell": {
     "cellMetadata": {
      "byteLimit": 2048000,
      "rowLimit": 10000
     },
     "inputWidgets": {},
     "nuid": "b1d47f7a-7890-4708-8548-f46244cda6b5",
     "showTitle": false,
     "tableResultSettingsMap": {},
     "title": ""
    }
   },
   "outputs": [
    {
     "output_type": "stream",
     "name": "stderr",
     "output_type": "stream",
     "text": [
      "2025/04/22 15:21:08 WARNING mlflow.models.model: Model logged without a signature. Signatures will be required for upcoming model registry features as they validate model inputs and denote the expected schema of model outputs. Please visit https://www.mlflow.org/docs/2.11.4/models.html#set-signature-on-logged-model for instructions on setting a model signature on your logged model.\n"
     ]
    },
    {
     "output_type": "stream",
     "name": "stdout",
     "output_type": "stream",
     "text": [
      "LogReg_Model completed. F1 Score = 0.5087\n"
     ]
    },
    {
     "output_type": "stream",
     "name": "stderr",
     "output_type": "stream",
     "text": [
      "2025/04/22 15:21:48 WARNING mlflow.models.model: Model logged without a signature. Signatures will be required for upcoming model registry features as they validate model inputs and denote the expected schema of model outputs. Please visit https://www.mlflow.org/docs/2.11.4/models.html#set-signature-on-logged-model for instructions on setting a model signature on your logged model.\nWARNING:urllib3.connectionpool:Connection pool is full, discarding connection: databricks-columbia-nyc.s3.us-east-1.amazonaws.com. Connection pool size: 10\n"
     ]
    },
    {
     "output_type": "stream",
     "name": "stdout",
     "output_type": "stream",
     "text": [
      "RandomForest_Model completed. F1 Score = 0.4563\n"
     ]
    }
   ],
   "source": [
    "train_model(LogisticRegression(max_iter=1000), \"LogReg_Model\", \"predictions_logreg\")\n",
    "train_model(RandomForestClassifier(n_estimators=100), \"RandomForest_Model\", \"predictions_rf\")\n"
   ]
  }
 ],
 "metadata": {
  "application/vnd.databricks.v1+notebook": {
   "computePreferences": null,
   "dashboards": [],
   "environmentMetadata": {
    "base_environment": "",
    "environment_version": "2"
   },
   "inputWidgetPreferences": null,
   "language": "python",
   "notebookMetadata": {
    "pythonIndentUnit": 4
   },
   "notebookName": "Homework4_MinshuoPiao",
   "widgets": {}
  },
  "language_info": {
   "name": "python"
  }
 },
 "nbformat": 4,
 "nbformat_minor": 0
}